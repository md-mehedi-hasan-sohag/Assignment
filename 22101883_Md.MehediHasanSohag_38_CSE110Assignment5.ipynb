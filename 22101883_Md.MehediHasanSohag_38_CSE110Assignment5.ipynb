{
 "cells": [
  {
   "cell_type": "code",
   "execution_count": 1,
   "id": "83b113cf",
   "metadata": {},
   "outputs": [
    {
     "name": "stdout",
     "output_type": "stream",
     "text": [
      "400\n"
     ]
    }
   ],
   "source": [
    "#Task-1\n",
    "a_tuple=(\"The Institute\",(\"Best Mystery & Thriller\", \"The Silent Patient\", 68821),\n",
    "         75717,[1, 2, 3, 400, 5, 6, 7], (\"Best Fiction\", \"The Testaments\", 98291))\n",
    "print(a_tuple[3][3])"
   ]
  },
  {
   "cell_type": "code",
   "execution_count": 2,
   "id": "a3456e9e",
   "metadata": {},
   "outputs": [
    {
     "name": "stdout",
     "output_type": "stream",
     "text": [
      "(10, 20, 24, 25, 26, 35, 70)\n",
      "(24, 25, 26)\n"
     ]
    }
   ],
   "source": [
    "#Task-2\n",
    "var=input()\n",
    "var1=var[1:-1]\n",
    "list1=var1.split(\", \")\n",
    "list2=[]\n",
    "for i in list1:\n",
    "    i=int(i)\n",
    "    list2.append(i)\n",
    "if(len(list1)<4):\n",
    "    print('Not possible')\n",
    "else:\n",
    "    list3=list2[2:-2]\n",
    "    print(tuple(list3))"
   ]
  },
  {
   "cell_type": "code",
   "execution_count": 5,
   "id": "d52d5858",
   "metadata": {},
   "outputs": [
    {
     "name": "stdout",
     "output_type": "stream",
     "text": [
      "Size of the tuple is: 4\n",
      "('Best Mystery & Thriller', 'The Silent Patient', 68, 821)\n",
      "('Best Horror', 'The Institute', 75, 717)\n",
      "('Best History & Biography', 'The five', 31, 783)\n",
      "('Best Fiction', 'The Testaments', 98, 291)\n"
     ]
    }
   ],
   "source": [
    "#Task-3\n",
    "book_info=( \n",
    "    (\"Best Mystery & Thriller\",\"The Silent Patient\",68,821),\n",
    "    (\"Best Horror\",\"The Institute\",75,717), \n",
    "    (\"Best History & Biography\",\"The five\",31,783 ), \n",
    "    (\"Best Fiction\",\"The Testaments\",98,291) \n",
    ")\n",
    "print(\"Size of the tuple is:\",len(book_info))\n",
    "for i in book_info:\n",
    "    print(i)"
   ]
  },
  {
   "cell_type": "code",
   "execution_count": 4,
   "id": "6218946f",
   "metadata": {},
   "outputs": [
    {
     "name": "stdout",
     "output_type": "stream",
     "text": [
      "The Silent Patient won the 'Best Mystery & Thriller' category with 68821 votes\n",
      "The Institute won the 'Best Horror' category with 75717 votes\n",
      "The five won the 'Best History & Biography' category with 31783 votes\n",
      "The Testaments won the 'Best Fiction' category with 98291 votes\n"
     ]
    }
   ],
   "source": [
    "#Task-4\n",
    "book_info = ( \n",
    "    (\"Best Mystery & Thriller\",\"The Silent Patient\",68821),\n",
    "    (\"Best Horror\",\"The Institute\",75717),\n",
    "    (\"Best History & Biography\",\"The five\",31783 ),\n",
    "    (\"Best Fiction\",\"The Testaments\",98291)\n",
    ")\n",
    "for item in book_info:\n",
    "    a,b,c=item\n",
    "    print(f\"{b} won the '{a}' category with {c} votes\")"
   ]
  },
  {
   "cell_type": "code",
   "execution_count": 5,
   "id": "9db9481e",
   "metadata": {},
   "outputs": [
    {
     "name": "stdout",
     "output_type": "stream",
     "text": [
      "8\n",
      "8 appears 4 times in the tuple\n"
     ]
    }
   ],
   "source": [
    "#Task-5\n",
    "tuple1=(10, 8, 5, 2, 10, 15, 10, 8, 5, 8, 8, 2)\n",
    "num=int(input())\n",
    "x=tuple1.count(num)\n",
    "print(num,\"appears\",x,\"times in the tuple\")"
   ]
  },
  {
   "cell_type": "code",
   "execution_count": 6,
   "id": "d1a3cd1a",
   "metadata": {},
   "outputs": [
    {
     "name": "stdout",
     "output_type": "stream",
     "text": [
      "(60, 50, 40, 30, 20, 10)\n"
     ]
    }
   ],
   "source": [
    "#Task-6\n",
    "tuple1=(10, 20, 30, 40, 50, 60)\n",
    "list1=list(tuple1)\n",
    "list2=[]\n",
    "for i in range(-1,-len(list1)-1,-1):\n",
    "    list2.append(list1[i])\n",
    "tuple2=tuple(list2)\n",
    "print(tuple2)"
   ]
  },
  {
   "cell_type": "code",
   "execution_count": 7,
   "id": "abf00ce4",
   "metadata": {},
   "outputs": [
    {
     "name": "stdout",
     "output_type": "stream",
     "text": [
      "{'Harry': 15, 'Draco': 8, 'Nevil': 19, 'Ginie': 18, 'Luna': 14}\n"
     ]
    }
   ],
   "source": [
    "#Task-7\n",
    "dic1={'Harry':15, 'Draco':8, 'Nevil':19}\n",
    "dic2={'Ginie':18, 'Luna': 14}\n",
    "marks=dic1.copy()\n",
    "marks.update(dic2)\n",
    "print(marks)"
   ]
  },
  {
   "cell_type": "code",
   "execution_count": 1,
   "id": "12bc5013",
   "metadata": {},
   "outputs": [
    {
     "name": "stdout",
     "output_type": "stream",
     "text": [
      "Please enter a dictionary:{'Jon': 100, 'Dan':200, 'Rob':300}\n",
      "Average is 200\n"
     ]
    }
   ],
   "source": [
    "#Task-8\n",
    "var=input(\"Please enter a dictionary:\")\n",
    "var=var[1:-1]\n",
    "list1=var.split(\",\")\n",
    "dic1={}\n",
    "list2=[]\n",
    "for i in list1:\n",
    "    list2=i.split(\":\")\n",
    "    dic1[list2[0]]=int(list2[1])\n",
    "total=0\n",
    "count=0\n",
    "for value in dic1.values():\n",
    "    total+=value\n",
    "    count+=1\n",
    "print(\"Average is\",int(total/count))"
   ]
  },
  {
   "cell_type": "code",
   "execution_count": 4,
   "id": "9c4c6bae",
   "metadata": {},
   "outputs": [
    {
     "name": "stdout",
     "output_type": "stream",
     "text": [
      "190\n",
      "{'Alden Cantrell': 200, 'Pierre Cox': 190}\n"
     ]
    }
   ],
   "source": [
    "#Task-9\n",
    "exam_marks={'Cierra Vega':175,'Alden Cantrell':200,'Kierra Gentry':165,'Pierre Cox':190}\n",
    "num=int(input())\n",
    "dic1={}\n",
    "for key in exam_marks:\n",
    "    if(exam_marks[key]>=num):\n",
    "        dic1[key]=exam_marks[key]\n",
    "print(dic1)   "
   ]
  },
  {
   "cell_type": "code",
   "execution_count": 16,
   "id": "ac993c84",
   "metadata": {},
   "outputs": [
    {
     "name": "stdout",
     "output_type": "stream",
     "text": [
      "The highest selling book genre is 'mystery' and the number of books sold are 15.\n"
     ]
    }
   ],
   "source": [
    "#Task-10\n",
    "dic1={'sci fi':12,'mystery':15,'horror':8,'mythology':10,'young_adult':4,'adventure':14}\n",
    "count=0\n",
    "maximum=\"\"\n",
    "for key in dic1:\n",
    "    if(count==0):\n",
    "        maximum=key\n",
    "        count+=1\n",
    "    elif(dic1[key]>dic1[maximum]):\n",
    "        maximum=key\n",
    "print(f\"The highest selling book genre is '{maximum}' and the number of books sold are {dic1[maximum]}.\")"
   ]
  },
  {
   "cell_type": "code",
   "execution_count": 6,
   "id": "5cb8c469",
   "metadata": {},
   "outputs": [
    {
     "name": "stdout",
     "output_type": "stream",
     "text": [
      "['p', 'y', 't', 'h', 'o', 'n', 'r', 'g', 'a', 'm', 'i', 's', 'f', 'u']\n",
      "[2, 1, 1, 1, 2, 3, 2, 2, 1, 2, 2, 1, 1, 1]\n",
      "{}\n"
     ]
    }
   ],
   "source": [
    "#Task-11\n",
    "#Problem\n",
    "#my method\n",
    "num=\"Python programming is fun\"\n",
    "num=num.lower()\n",
    "list1=[]\n",
    "for i in num:\n",
    "    if(i!=\" \"):\n",
    "        list1.append(i)\n",
    "#print(list1)\n",
    "list2=[]\n",
    "list2.append(list1[0])\n",
    "for j in list1:\n",
    "    if(j not in list2):\n",
    "        list2.append(j)\n",
    "print(list2)\n",
    "list3=[]\n",
    "for k in list2:\n",
    "    x=0\n",
    "    x=list1.count(k)\n",
    "    list3.append(x)\n",
    "print(list3)\n",
    "dic1={}\n",
    "for v in list2:\n",
    "    list2=v.split(\",\")\n",
    "    list3=v.split(\",\")\n",
    "    #dic1[list2[0]]=list3[0]\n",
    "print(dic1)"
   ]
  },
  {
   "cell_type": "code",
   "execution_count": 7,
   "id": "b03b43fe",
   "metadata": {},
   "outputs": [
    {
     "name": "stdout",
     "output_type": "stream",
     "text": [
      "\"Python programming is fun\"\n",
      "{'p': 2, 'y': 1, 't': 1, 'h': 1, 'o': 2, 'n': 3, 'r': 2, 'g': 2, 'a': 1, 'm': 2, 'i': 2, 's': 1, 'f': 1, 'u': 1}\n"
     ]
    }
   ],
   "source": [
    "#Task-11\n",
    "num=input()\n",
    "num=num.lower()\n",
    "dic1={}\n",
    "for i in num:\n",
    "    if ord(i)>=97 and ord(i)<=122:\n",
    "        if i in dic1.keys():\n",
    "            dic1[i]+=1\n",
    "        else:\n",
    "            dic1[i]=1\n",
    "print(dic1)"
   ]
  },
  {
   "cell_type": "code",
   "execution_count": 1,
   "id": "1f839423",
   "metadata": {},
   "outputs": [
    {
     "name": "stdout",
     "output_type": "stream",
     "text": [
      "9\n"
     ]
    }
   ],
   "source": [
    "#Task-12\n",
    "dic1={'A':[1,2,3],'b':['1','2'],\"c\": [4,5,6,7]}\n",
    "list1=[]\n",
    "count=0\n",
    "for i,j in dic1.items():\n",
    "    for k in j:\n",
    "        list1.append(k)\n",
    "        count+=1\n",
    "print(count)"
   ]
  },
  {
   "cell_type": "code",
   "execution_count": 33,
   "id": "9e00c629",
   "metadata": {},
   "outputs": [
    {
     "name": "stdout",
     "output_type": "stream",
     "text": [
      "{'a': [1, 3, 2], 'b': [2, 1], 'c': [1]}\n"
     ]
    }
   ],
   "source": [
    "#Task-13\n",
    "list1=[(\"a\",1),(\"b\",2),(\"a\",3),(\"b\",1),(\"a\",2),(\"c\",1)]\n",
    "dic1={}\n",
    "for i in list1:\n",
    "    key,value=i\n",
    "    if(key not in dic1):\n",
    "        dic1[key]=[value]\n",
    "    else:\n",
    "        dic1[key].append(value)\n",
    "print(dic1)"
   ]
  },
  {
   "cell_type": "code",
   "execution_count": 4,
   "id": "36996eff",
   "metadata": {},
   "outputs": [
    {
     "name": "stdout",
     "output_type": "stream",
     "text": [
      "var1 = False\n",
      "var2 = False\n",
      "var3 = False\n",
      "var4 = True\n",
      "var5 = False\n",
      "var6 = False\n",
      "False\n",
      "False\n",
      "False\n",
      "False\n",
      "False\n",
      "True\n",
      "False\n",
      "False\n",
      "False\n",
      "True\n"
     ]
    }
   ],
   "source": [
    "#Task-14\n",
    "var1 = var2 = var3 = var4 = var5 = var6 = False\n",
    "result1=result2=result3=result4=result5=result6=result7=result8=result9=result10=False\n",
    "var1 = 4 < 3 - 1\n",
    "var2 = var1 and False\n",
    "var3 = False\n",
    "var4 = True\n",
    "var5 = False\n",
    "var6 = var3 and True\n",
    "print(\"var1 =\",var1)\n",
    "print(\"var2 =\",var2)\n",
    "print(\"var3 =\",var3)\n",
    "print(\"var4 =\",var4)\n",
    "print(\"var5 =\",var5)\n",
    "print(\"var6 =\",var6)\n",
    "result1 = (var1 or var2) and (8 * 10 > 45)\n",
    "result2 = (var1 or var2) and (result1 and False)\n",
    "result3 = (var1 and result1) or result2\n",
    "result4 = (var1 or var2) or ((var3 and var1) and False)\n",
    "result5 = (var1 and var2) and (result3 or var1)\n",
    "result6 = ((var3 or var2) and not result5) or True\n",
    "result7 = (var4 and result1) and ((result1 and False) or True)\n",
    "result8 = ((var1 and result3) and (var5 or var6)) and True\n",
    "result9 = ((result2 and var2) or (result7 and var1)) and False\n",
    "result10 = not(var1 and True)\n",
    "print(result1)\n",
    "print(result2)\n",
    "print(result3)\n",
    "print(result4)\n",
    "print(result5)\n",
    "print(result6)\n",
    "print(result7)\n",
    "print(result8)\n",
    "print(result9)\n",
    "print(result10)"
   ]
  },
  {
   "cell_type": "code",
   "execution_count": 1,
   "id": "a19ec618",
   "metadata": {},
   "outputs": [
    {
     "name": "stdout",
     "output_type": "stream",
     "text": [
      "var1 = False\n",
      "var2 = False\n",
      "var3 = True\n",
      "var4 = False\n",
      "var5 = True\n",
      "var6 = False\n",
      "False\n",
      "False\n",
      "True\n",
      "False\n",
      "False\n",
      "True\n",
      "False\n",
      "False\n",
      "False\n",
      "True\n"
     ]
    }
   ],
   "source": [
    "#Task-15\n",
    "var1 = False\n",
    "var2 = False\n",
    "var3 = False\n",
    "var4 = False\n",
    "var5 = False\n",
    "var6 = False\n",
    "result1 = False\n",
    "result2 = False\n",
    "result3 = False\n",
    "result4 = False\n",
    "result5 = False\n",
    "result6 = False\n",
    "result7 = False\n",
    "result8 = False\n",
    "result9 = False\n",
    "result10 = False\n",
    "var1 =((not True) or True) and False\n",
    "var2 = var1 and False\n",
    "var3 = True and not False\n",
    "var4 = False\n",
    "var5 = True\n",
    "var6 = var3 and False\n",
    "print(\"var1 =\",var1)\n",
    "print(\"var2 =\",var2)\n",
    "print(\"var3 =\",var3)\n",
    "print(\"var4 =\",var4)\n",
    "print(\"var5 =\",var5)\n",
    "print(\"var6 =\",var6)\n",
    "result1 = (var1 and var2) and (40 % 3) > 45 or (var5 and var6)\n",
    "result2 = (var1 or var2) or (result1 and False)\n",
    "result3 = (var1 and result1) or result2 or var5\n",
    "result4 = (var1 or var2) or ((var3 and var1) and False)\n",
    "result5 = (var1 and var2) and (result3 or var1)\n",
    "result6 = ((var3 or (not var2)) and (result5)) or True\n",
    "result7 = (var4 and result1) and ((result1 and False) or True)\n",
    "result8 = ((var1 and result3) and ((not var5) or var6)) and True\n",
    "result9 = ((result2 and var2) or ((not result7) and var1)) and not False\n",
    "result10 = not(var1 and True)\n",
    "print(result1)\n",
    "print(result2)\n",
    "print(result3)\n",
    "print(result4)\n",
    "print(result5)\n",
    "print(result6)\n",
    "print(result7)\n",
    "print(result8)\n",
    "print(result9)\n",
    "print(result10)"
   ]
  },
  {
   "cell_type": "code",
   "execution_count": 3,
   "id": "be815598",
   "metadata": {},
   "outputs": [
    {
     "name": "stdout",
     "output_type": "stream",
     "text": [
      "5\n",
      "9\n",
      "15\n",
      "25\n",
      "43\n",
      "77\n",
      "143\n",
      "273\n",
      "531\n"
     ]
    }
   ],
   "source": [
    "#Task-16\n",
    "myList = [0, 0, 0, 0, 0, 0, 0, 0, 0, 0]\n",
    "index1 = 0\n",
    "index2 = 0\n",
    "index1 = 1\n",
    "while(index1<10):\n",
    "    myList[index1] = index1+4\n",
    "    #print(\"1st my index\",myList[index1])\n",
    "    index2 = 1\n",
    "    #print(\"index1\",index1)\n",
    "    while(index2<index1):\n",
    "        myList[index1] = myList[index1] +myList[index2]-index1\n",
    "        index2 = index2+1\n",
    "        #print(\"index2\",index2)      \n",
    "        #print(\"myList[index1]\",myList[index1])\n",
    "    print(myList[index1])\n",
    "    index1 = index1+1"
   ]
  },
  {
   "cell_type": "code",
   "execution_count": 2,
   "id": "0708ee66",
   "metadata": {},
   "outputs": [
    {
     "name": "stdout",
     "output_type": "stream",
     "text": [
      "5\n",
      "3\n",
      "-5\n",
      "-12\n",
      "-12\n",
      "-6\n",
      "-1\n",
      "-3\n",
      "-11\n"
     ]
    }
   ],
   "source": [
    "#Task-17\n",
    "myList = [0, 0, 0, 0, 0, 0, 0, 0, 0, 0]\n",
    "index1 = 0\n",
    "index2 = 0\n",
    "index1 = 1\n",
    "while (index1 < 10):\n",
    "    myList[index1] = index1 + 4\n",
    "    index2 = 1\n",
    "    while (index2 < index1):\n",
    "        myList[index1] = myList[index1-1] - myList[index2-1] - index1\n",
    "        index2 = index2 + 1\n",
    "    print(myList[index1])\n",
    "    index1 = index1 + 1\n"
   ]
  },
  {
   "cell_type": "code",
   "execution_count": 15,
   "id": "cb50253d",
   "metadata": {},
   "outputs": [
    {
     "name": "stdout",
     "output_type": "stream",
     "text": [
      "3\n",
      "5\n",
      "7\n",
      "9\n",
      "11\n",
      "13\n",
      "15\n",
      "17\n",
      "19\n"
     ]
    }
   ],
   "source": [
    "#Task=18\n",
    "myList = [0, 0, 0, 0, 0, 0, 0, 0, 0, 0]\n",
    "b = []\n",
    "index1 = 0\n",
    "index2 = 0\n",
    "index1 = 1\n",
    "b = myList\n",
    "while(index1<10):\n",
    "    myList[index1] = index1+2\n",
    "    #print(\"1st my index\",myList[index1])\n",
    "    index2 = 1\n",
    "    while(index2<index1):\n",
    "        myList[index1] = b[index1]+myList[index2]-index1\n",
    "        index2 = index2+1\n",
    "        #print(\"myList[index1]\",myList[index1])\n",
    "        #print(\"index1\",index1)\n",
    "        #print(\"index2\",index2)\n",
    "    print(myList[index1])\n",
    "    index1 = index1+1"
   ]
  },
  {
   "cell_type": "code",
   "execution_count": 14,
   "id": "11b202ea",
   "metadata": {},
   "outputs": [
    {
     "name": "stdout",
     "output_type": "stream",
     "text": [
      "2\n",
      "0\n",
      "-1\n",
      "-5\n",
      "-11\n",
      "-22\n",
      "-40\n",
      "-70\n",
      "-119\n"
     ]
    }
   ],
   "source": [
    "#Task-19\n",
    "myList=[0,0,0,0,0,0,0,0,0,0]\n",
    "b=[]\n",
    "index1=0\n",
    "index2=0\n",
    "index1=1\n",
    "b=myList\n",
    "while(index1<10):\n",
    "    myList[index1]=index1+1\n",
    "    #print(\"1st my index\",myList[index1])\n",
    "    index2=1\n",
    "    while(index2<index1):\n",
    "        myList[index1]=b[index2-1]+myList[index2]-index1\n",
    "        index2=index2+1\n",
    "        #print(\"myList[index1]\",myList[index1])\n",
    "    print(myList[index1]) \n",
    "    index1=index1+1"
   ]
  }
 ],
 "metadata": {
  "kernelspec": {
   "display_name": "Python 3 (ipykernel)",
   "language": "python",
   "name": "python3"
  },
  "language_info": {
   "codemirror_mode": {
    "name": "ipython",
    "version": 3
   },
   "file_extension": ".py",
   "mimetype": "text/x-python",
   "name": "python",
   "nbconvert_exporter": "python",
   "pygments_lexer": "ipython3",
   "version": "3.9.7"
  }
 },
 "nbformat": 4,
 "nbformat_minor": 5
}
