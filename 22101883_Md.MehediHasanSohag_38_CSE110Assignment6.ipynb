{
 "cells": [
  {
   "cell_type": "code",
   "execution_count": 7,
   "id": "8d10cd76",
   "metadata": {},
   "outputs": [
    {
     "name": "stdout",
     "output_type": "stream",
     "text": [
      "Enter a number: 5\n",
      "Odd!!\n"
     ]
    }
   ],
   "source": [
    "#Task-1\n",
    "def even_checker(num):\n",
    "    if(num%2==0):\n",
    "        print(\"Even!!\")\n",
    "    else:\n",
    "        print(\"Odd!!\")\n",
    "var=int(input(\"Enter a number: \"))\n",
    "even_checker(var)"
   ]
  },
  {
   "cell_type": "code",
   "execution_count": 11,
   "id": "8538935f",
   "metadata": {},
   "outputs": [
    {
     "name": "stdout",
     "output_type": "stream",
     "text": [
      "Enter the limit: 10\n",
      "0 1 1 2 3 5 8 "
     ]
    }
   ],
   "source": [
    "#Task-2\n",
    "def fibonacci(num):\n",
    "    a=0\n",
    "    b=1\n",
    "    print(a,b,end=\" \")\n",
    "    #print(b,end=\" \")\n",
    "    count=1\n",
    "    while(count>0):\n",
    "        c=a+b\n",
    "        a=b\n",
    "        b=c\n",
    "        if(c<num):\n",
    "            print(c,end=\" \")\n",
    "        else:\n",
    "            break\n",
    "var=int(input(\"Enter the limit: \"))\n",
    "fibonacci(var)"
   ]
  },
  {
   "cell_type": "code",
   "execution_count": 5,
   "id": "809001f7",
   "metadata": {},
   "outputs": [
    {
     "name": "stdout",
     "output_type": "stream",
     "text": [
      "Enter a number: 4\n",
      "Foo\n"
     ]
    }
   ],
   "source": [
    "#Task-3\n",
    "def foo_moo(num):\n",
    "    if(num%2==0 and num%3==0):\n",
    "        return \"FooMoo\"\n",
    "    elif(num%2==0):\n",
    "        return \"Foo\"\n",
    "    elif(num%3==0):\n",
    "        return \"Moo\"\n",
    "    else:\n",
    "        return \"Boo\"\n",
    "var=int(input(\"Enter a number: \"))\n",
    "print(foo_moo(var))"
   ]
  },
  {
   "cell_type": "code",
   "execution_count": 6,
   "id": "945c484b",
   "metadata": {},
   "outputs": [
    {
     "name": "stdout",
     "output_type": "stream",
     "text": [
      "The quick Sand Man\n",
      "No. of Uppercase characters : 3\n",
      "No. of Lowercase Characters: 12\n"
     ]
    }
   ],
   "source": [
    "#Task-4\n",
    "def function_name(var):\n",
    "    count=0\n",
    "    counter=0\n",
    "    for i in var:\n",
    "        if(ord(i)>=65 and ord(i)<=90):\n",
    "            count+=1\n",
    "        elif(ord(i)>=97 and ord(i)<=122):\n",
    "            counter+=1\n",
    "    print(\"No. of Uppercase characters :\",count)\n",
    "    print(\"No. of Lowercase Characters:\",counter)\n",
    "var=input()\n",
    "function_name(var)"
   ]
  },
  {
   "cell_type": "code",
   "execution_count": 1,
   "id": "ba2734b7",
   "metadata": {},
   "outputs": [
    {
     "name": "stdout",
     "output_type": "stream",
     "text": [
      "16\n",
      "20000\n",
      "Student\n",
      "0\n"
     ]
    }
   ],
   "source": [
    "#Task-5\n",
    "def calculate_tax(age,salary,job):   \n",
    "    if(age<18 or salary<10000 or job==\"president\"):\n",
    "        tax=0\n",
    "    else:\n",
    "        if(salary>=10000 and salary<=20000):\n",
    "            tax=.05\n",
    "        elif(salary>20000):\n",
    "            tax=.1\n",
    "    return tax*salary\n",
    "age=int(input())\n",
    "salary=int(input())\n",
    "job=input().lower()\n",
    "print(calculate_tax(age,salary,job))"
   ]
  },
  {
   "cell_type": "code",
   "execution_count": 3,
   "id": "d2587d3e",
   "metadata": {},
   "outputs": [
    {
     "name": "stdout",
     "output_type": "stream",
     "text": [
      "Enter the number of day: 4330\n",
      "11 years, 10 months and 15 days\n"
     ]
    }
   ],
   "source": [
    "#Task-6\n",
    "def function_name(days):\n",
    "    year=days//365\n",
    "    days=days%365\n",
    "    month=days//30\n",
    "    day=days%30\n",
    "    print(year,\"years,\",month,\"months and\",day,\"days\")\n",
    "days=int(input(\"Enter the number of day: \"))\n",
    "function_name(days)"
   ]
  },
  {
   "cell_type": "code",
   "execution_count": 2,
   "id": "17f13a01",
   "metadata": {},
   "outputs": [
    {
     "name": "stdout",
     "output_type": "stream",
     "text": [
      "Enter a number: 5\n",
      "123454321\n"
     ]
    }
   ],
   "source": [
    "#Task-7\n",
    "def show_palindrome(num):\n",
    "    string=\"\"\n",
    "    for i in range(1,num+1):\n",
    "        string+=str(i)\n",
    "    count=i\n",
    "    for j in range(num-1):\n",
    "        string+=str(count-1)\n",
    "        count-=1\n",
    "    return string\n",
    "var=int(input(\"Enter a number: \"))\n",
    "print(show_palindrome(var))"
   ]
  },
  {
   "cell_type": "code",
   "execution_count": 52,
   "id": "c8e9fa78",
   "metadata": {},
   "outputs": [
    {
     "name": "stdout",
     "output_type": "stream",
     "text": [
      "Enter a number:5\n",
      "    1\n",
      "   121\n",
      "  12321\n",
      " 1234321\n",
      "123454321\n"
     ]
    }
   ],
   "source": [
    "#Task-8\n",
    "def show_palindromic_triangle(num):\n",
    "    for i in range(1,num+1):\n",
    "        for s in range(num-1,0,-1):\n",
    "            print(\" \",end=\"\")\n",
    "        for l in range(1,i+1):\n",
    "            print(l,end=\"\")\n",
    "        for r in range(i-1,0,-1):\n",
    "            print(r,end=\"\")\n",
    "        num-=1\n",
    "        print()\n",
    "var=int(input(\"Enter a number:\"))\n",
    "show_palindromic_triangle(var)    "
   ]
  },
  {
   "cell_type": "code",
   "execution_count": 2,
   "id": "87aaf2f2",
   "metadata": {},
   "outputs": [
    {
     "name": "stdout",
     "output_type": "stream",
     "text": [
      "Enter a number:5\n",
      "    1\n",
      "   121\n",
      "  12321\n",
      " 1234321\n",
      "123454321\n"
     ]
    }
   ],
   "source": [
    "#Task-8\n",
    "#Question Answer:\n",
    "def show_palindromic_triangle(value):\n",
    "    for i in range(1,value+1):\n",
    "        for s in range(value-1,0,-1):\n",
    "            print(\" \",end=\"\")    \n",
    "        def show_palindrome(num):    \n",
    "            string=\"\"\n",
    "            for k in range(1,num+1):\n",
    "                string+=str(k)\n",
    "            count=k\n",
    "            for j in range(num-1):\n",
    "                string+=str(count-1)\n",
    "                count-=1\n",
    "            return string\n",
    "        print(show_palindrome(i))\n",
    "        value-=1\n",
    "var=int(input(\"Enter a number:\"))\n",
    "show_palindromic_triangle(var) "
   ]
  },
  {
   "cell_type": "code",
   "execution_count": 14,
   "id": "a1d75c03",
   "metadata": {},
   "outputs": [
    {
     "name": "stdout",
     "output_type": "stream",
     "text": [
      "Enter the value of radius:1\n",
      "Area of the circle is 3.141592653589793 and circumference is 6.283185307179586\n"
     ]
    }
   ],
   "source": [
    "#Task-9\n",
    "import math\n",
    "def area_circumference_generator(num):\n",
    "    cir=2*int(num)*math.pi\n",
    "    area=math.pi*math.pow(num,2)\n",
    "    return area, cir\n",
    "var=float(input(\"Enter the value of radius:\"))\n",
    "print(\"Area of the circle is\",area_circumference_generator(var)[0], \n",
    "       \"and circumference is\",area_circumference_generator(var)[1])"
   ]
  },
  {
   "cell_type": "code",
   "execution_count": 25,
   "id": "c2b1c5c5",
   "metadata": {},
   "outputs": [
    {
     "name": "stdout",
     "output_type": "stream",
     "text": [
      "1\n",
      "(3.141592653589793, 6.283185307179586)\n",
      "Area of the circle is 3.141592653589793 and circumference is 6.283185307179586\n"
     ]
    }
   ],
   "source": [
    "#Task-9\n",
    "#Question Answer\n",
    "import math\n",
    "def area_circumference_generator(num):\n",
    "    cir=2*num*math.pi\n",
    "    area=math.pi*math.pow(num,2)\n",
    "    tuple1=(area,cir)\n",
    "    return tuple1\n",
    "var=float(input())\n",
    "value=area_circumference_generator(var)\n",
    "print(value)\n",
    "a,b=value\n",
    "print(\"Area of the circle is\",a, \"and circumference is\",b)"
   ]
  },
  {
   "cell_type": "code",
   "execution_count": 26,
   "id": "d7147d4f",
   "metadata": {},
   "outputs": [
    {
     "name": "stdout",
     "output_type": "stream",
     "text": [
      "{1: 1, 2: 4, 3: 9}\n"
     ]
    }
   ],
   "source": [
    "#Task-10\n",
    "def make_square(num):\n",
    "    dic={}\n",
    "    for i in range(num[0],num[1]+1):\n",
    "        dic[i]=i*i\n",
    "    return dic\n",
    "print(make_square((1,3)))"
   ]
  },
  {
   "cell_type": "code",
   "execution_count": 1,
   "id": "4de546ad",
   "metadata": {},
   "outputs": [
    {
     "name": "stdout",
     "output_type": "stream",
     "text": [
      "('Hi', 1, 2, 3, 'a', [1, 2])\n"
     ]
    }
   ],
   "source": [
    "#Task-11\n",
    "def rem_duplicate(num):\n",
    "    list1=list(num)\n",
    "    list2=[]\n",
    "    for i in list1:\n",
    "        if i not in list2:\n",
    "            list2.append(i)\n",
    "    tuple1=tuple(list2)\n",
    "    return tuple1\n",
    "print(rem_duplicate((\"Hi\", 1, 2, 3, 3, \"Hi\",'a', 'a', [1,2])))"
   ]
  },
  {
   "cell_type": "code",
   "execution_count": 3,
   "id": "a3d04d8a",
   "metadata": {},
   "outputs": [
    {
     "name": "stdout",
     "output_type": "stream",
     "text": [
      "Removed: 2\n",
      "[1, 2, 3, 3, 4, 5, 8, 8]\n"
     ]
    }
   ],
   "source": [
    "#Task-12\n",
    "def function_name(num):\n",
    "    list_name=[]\n",
    "    for i in num:\n",
    "        if(list_name.count(i)<2):\n",
    "            list_name.append(i)\n",
    "    print(\"Removed:\",len(num)-len(list_name))\n",
    "    return list_name\n",
    "var=function_name([1, 2, 3, 3, 3, 3, 4, 5, 8, 8])\n",
    "print(var)"
   ]
  },
  {
   "cell_type": "code",
   "execution_count": 4,
   "id": "3a86df15",
   "metadata": {},
   "outputs": [
    {
     "name": "stdout",
     "output_type": "stream",
     "text": [
      "*\n",
      "5\n",
      "6\n",
      "30.0\n"
     ]
    }
   ],
   "source": [
    "#Task-13\n",
    "def function_name(operator,num1,num2):\n",
    "    if(operator==\"+\"):\n",
    "        return num1+num2\n",
    "    elif(operator==\"-\"):\n",
    "        return num1-num2\n",
    "    elif(operator==\"*\"):\n",
    "        return num1*num2\n",
    "    elif(operator==\"/\"):\n",
    "        return num1/num2\n",
    "operator=input()\n",
    "num1=float(input())\n",
    "num2=float(input())\n",
    "print(function_name(operator,num1,num2))"
   ]
  },
  {
   "cell_type": "code",
   "execution_count": 1,
   "id": "8a70ba1a",
   "metadata": {},
   "outputs": [
    {
     "name": "stdout",
     "output_type": "stream",
     "text": [
      "Python is easy to learn. I love python.\n",
      "6\n",
      "Pythonis eay to earn.I lov pythn. sl eo\n"
     ]
    }
   ],
   "source": [
    "#Task-14\n",
    "def function_name(sentence,position):\n",
    "    fpart=\"\"\n",
    "    lpart=\"\"\n",
    "    for i in range(len(sentence)):\n",
    "        if(i==0):\n",
    "            fpart+=sentence[i]\n",
    "        elif(i%position!=0):\n",
    "            fpart+=sentence[i]\n",
    "        else:\n",
    "            lpart+=sentence[i]\n",
    "    return fpart+lpart\n",
    "sentence=input()\n",
    "position=int(input())\n",
    "print(function_name(sentence,position))"
   ]
  },
  {
   "cell_type": "code",
   "execution_count": 1,
   "id": "80e92008",
   "metadata": {},
   "outputs": [
    {
     "name": "stdout",
     "output_type": "stream",
     "text": [
      "[Rice,Beef,Oil]\n",
      "770\n"
     ]
    }
   ],
   "source": [
    "#Task-15\n",
    "def function_name(order_items,location=\"Dhanmondi\"):\n",
    "    total=0\n",
    "    for i in order_items:\n",
    "        if(i==\"Rice\"):\n",
    "            total+=105\n",
    "        elif(i==\"Potato\"):\n",
    "            total+=20\n",
    "        elif(i==\"Chicken\"):\n",
    "            total+=250\n",
    "        elif(i==\"Beef\"):\n",
    "            total+=510\n",
    "        elif(i==\"Oil\"):\n",
    "            total+=85\n",
    "    if(location==\"Dhanmondi\"):\n",
    "        total+=30\n",
    "    else:\n",
    "        total+=70\n",
    "    return total\n",
    "list1=input()[1:-1].split(\",\")\n",
    "print(function_name(list1,location=\"Mohakhali\"))"
   ]
  },
  {
   "cell_type": "code",
   "execution_count": 1,
   "id": "31317fc4",
   "metadata": {},
   "outputs": [
    {
     "name": "stdout",
     "output_type": "stream",
     "text": [
      "[\"Rice\",\"Beef\",\"Rice\"]\n",
      "750\n"
     ]
    }
   ],
   "source": [
    "#Task-15\n",
    "def function_name(order_items,location=\"Dhanmondi\"):\n",
    "    d={'\"Rice\"':105,'\"Potato\"':20,'\"Chicken\"':250,'\"Beef\"':510,'\"Oil\"':85}\n",
    "    price=0\n",
    "    for i in order_items:\n",
    "        price+=d[i]\n",
    "    if(location==\"Dhanmondi\"):\n",
    "        price+=30\n",
    "    else:\n",
    "        price+=70\n",
    "    return price\n",
    "list1=input()[1:-1].split(\",\")\n",
    "print(function_name(list1))"
   ]
  },
  {
   "cell_type": "code",
   "execution_count": 1,
   "id": "3fde11b1",
   "metadata": {},
   "outputs": [
    {
     "name": "stdout",
     "output_type": "stream",
     "text": [
      "Output : 12.0\n",
      "Output : 29.0\n",
      "Output : 45.0\n",
      "Output : 21.0\n",
      "Output : 42.0\n",
      "Output : 65.0\n",
      "Output : 26.0\n",
      "Output : 52.0\n",
      "Output : 80.0\n",
      "Output : 110.0\n"
     ]
    }
   ],
   "source": [
    "#Task-16\n",
    "x = 0\n",
    "y = 0\n",
    "sum = 0\n",
    "p = 0.0\n",
    "while (x < 9):\n",
    "    y = x/2\n",
    "    while (y<x):\n",
    "        p = (x + 5.0)/ 2\n",
    "        sum = sum+2 + x + y*2 + int(p)\n",
    "        print(\"Output :\",sum)\n",
    "        y=y+1\n",
    "    x = x+2\n",
    "    if (x>5):\n",
    "        sum = 2\n",
    "    else:\n",
    "        sum += 3"
   ]
  },
  {
   "cell_type": "code",
   "execution_count": 12,
   "id": "f113c482",
   "metadata": {},
   "outputs": [
    {
     "name": "stdout",
     "output_type": "stream",
     "text": [
      "23\n",
      "46\n",
      "52\n",
      "75\n",
      "98\n",
      "121\n",
      "144\n",
      "167\n",
      "190\n",
      "213\n"
     ]
    }
   ],
   "source": [
    "#Task-17\n",
    "x = 0\n",
    "y = 0\n",
    "sum = 0\n",
    "while (x < 10):\n",
    "    y = x - 3\n",
    "    y = 40\n",
    "    while (y > 22):\n",
    "        if ((sum > 30) and (sum < 40)):\n",
    "            sum = sum + x * 2\n",
    "        elif((sum > 40) and (sum < 50)):\n",
    "            sum = sum + x * 3\n",
    "        else:\n",
    "            sum = sum + 23\n",
    "        print(sum)\n",
    "        y = y - 10\n",
    "    x += 2"
   ]
  },
  {
   "cell_type": "code",
   "execution_count": 18,
   "id": "18f5d607",
   "metadata": {},
   "outputs": [
    {
     "name": "stdout",
     "output_type": "stream",
     "text": [
      "6\n",
      "4\n",
      "2\n",
      "0\n",
      "-2\n",
      "-4\n",
      "3\n",
      "1\n",
      "-1\n",
      "-2\n"
     ]
    }
   ],
   "source": [
    "#Task-18\n",
    "x = y = 0\n",
    "sum = 0\n",
    "while (x < 10):\n",
    "    y = x - 3\n",
    "    while (y < 3):\n",
    "        sum = x - y * 2\n",
    "        print(sum)\n",
    "        y = y + 1\n",
    "    if (x > 7):\n",
    "        x += 1\n",
    "    else:\n",
    "        x += 3\n",
    "sum = x - y * 2\n",
    "print(sum)"
   ]
  },
  {
   "cell_type": "code",
   "execution_count": 7,
   "id": "0578ec18",
   "metadata": {},
   "outputs": [
    {
     "name": "stdout",
     "output_type": "stream",
     "text": [
      "4\n",
      "9\n",
      "16\n",
      "25\n",
      "39\n",
      "56\n",
      "78\n",
      "104\n",
      "134\n",
      "147\n"
     ]
    }
   ],
   "source": [
    "#Task-19\n",
    "x = 0\n",
    "p = 0\n",
    "sum = 0\n",
    "p = 1\n",
    "x = 2\n",
    "q = 0.0\n",
    "sum = 0\n",
    "while (p < 12):\n",
    "    q = x + p - (sum + int(5 / 3)) / 3.0 % 2\n",
    "    sum = sum + x + int(q)\n",
    "    x+=1\n",
    "    print(sum)\n",
    "    if (x > 5):\n",
    "        p += int(4 / 2)\n",
    "    else:\n",
    "        p += 3 % 1\n",
    "sum = sum + p\n",
    "print(sum)"
   ]
  },
  {
   "cell_type": "code",
   "execution_count": 16,
   "id": "fd8acc58",
   "metadata": {},
   "outputs": [
    {
     "name": "stdout",
     "output_type": "stream",
     "text": [
      "-->dog<--28\n",
      "-->dog<--28-->115\n",
      "-->dog<--28-->115<--27\n",
      "-->dog<--28-->115<--27-->113\n",
      "-->dog<--28-->115<--27-->113-->115\n",
      "-->dog<--28-->115<--27-->113-->115<--37\n",
      "-->dog<--28-->115<--27-->113-->115<--37-->113\n",
      "-->dog<--28-->115<--27-->113-->115<--37-->113<--47\n",
      "-->dog<--28-->115<--27-->113-->115<--37-->113<--47-->213\n",
      "-->dog<--28-->115<--27-->113-->115<--37-->113<--47-->213-->213\n"
     ]
    }
   ],
   "source": [
    "#Task-20\n",
    "i = 2\n",
    "j = 0\n",
    "k = 17\n",
    "test = \"-->dog\"\n",
    "while i < 7:\n",
    "    k-=1\n",
    "    j = k\n",
    "    while j > 12:\n",
    "        if (j % 2 == 0):\n",
    "            test += \"<--\"\n",
    "            test = test + str(i) + str(j // 2)\n",
    "        else:\n",
    "            test += \"-->\"\n",
    "            test = test + str(i // 2) + str(j)\n",
    "        print(test)\n",
    "        j-=1\n",
    "    i+=1"
   ]
  },
  {
   "cell_type": "code",
   "execution_count": 28,
   "id": "c66557e0",
   "metadata": {},
   "outputs": [
    {
     "name": "stdout",
     "output_type": "stream",
     "text": [
      "<--53-->4\n",
      "-->1-->13\n",
      "<--53-->4\n",
      "-->1-->11\n",
      "-->2-->13\n",
      "<--63-->4\n",
      "-->2-->11\n",
      "<--73-->4\n",
      "-->2-->11\n",
      "-->2-->11\n"
     ]
    }
   ],
   "source": [
    "#Task-21\n",
    "test = \"\"\n",
    "i = 5\n",
    "j = 0\n",
    "k = 15\n",
    "while (i< 10):\n",
    "    k-=1\n",
    "    j = k\n",
    "    while (j > 10 ):\n",
    "        if j % 2 == 0:\n",
    "            test = \"<--\"\n",
    "            test = test + str(i) + '3' + \"-->\" + str(j // 3)\n",
    "        else:\n",
    "            test = \"-->\"\n",
    "            test = \"-->\" + str((i // 3)) + test + str(j)\n",
    "        print(test)\n",
    "        j -=1\n",
    "    i+=1"
   ]
  },
  {
   "cell_type": "code",
   "execution_count": 35,
   "id": "6e84133b",
   "metadata": {},
   "outputs": [
    {
     "name": "stdout",
     "output_type": "stream",
     "text": [
      "5 == 5\n",
      "2 == 2\n",
      "0 == 0\n",
      "-3 != -2\n",
      "-5 != -5\n",
      "-8 != -7\n",
      "-10 != -10\n"
     ]
    }
   ],
   "source": [
    "#Task-22\n",
    "i = 10\n",
    "while(i >= -20):\n",
    "    if(i < 0):\n",
    "        test = \" != \"\n",
    "        test = str(i//2) + test + str(int(i/2))\n",
    "    else:\n",
    "        test = \" == \"\n",
    "        test = str(i//2) + test + str(int(i/2))\n",
    "    print(test)\n",
    "    i -= 5"
   ]
  }
 ],
 "metadata": {
  "kernelspec": {
   "display_name": "Python 3 (ipykernel)",
   "language": "python",
   "name": "python3"
  },
  "language_info": {
   "codemirror_mode": {
    "name": "ipython",
    "version": 3
   },
   "file_extension": ".py",
   "mimetype": "text/x-python",
   "name": "python",
   "nbconvert_exporter": "python",
   "pygments_lexer": "ipython3",
   "version": "3.9.7"
  }
 },
 "nbformat": 4,
 "nbformat_minor": 5
}
