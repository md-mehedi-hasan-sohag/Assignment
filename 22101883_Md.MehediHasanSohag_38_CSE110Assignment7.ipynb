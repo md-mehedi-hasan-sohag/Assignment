{
 "cells": [
  {
   "cell_type": "code",
   "execution_count": 1,
   "id": "21c22f6e",
   "metadata": {},
   "outputs": [
    {
     "name": "stdout",
     "output_type": "stream",
     "text": [
      "[1, 2, 2, 3, 5, 6, 10, 11, 12, 14, 15, 17, 18, 20, 29]\n"
     ]
    }
   ],
   "source": [
    "#Task-1\n",
    "my_list=[10,1,20,3,6,2,5,11,15,2,12,14,17,18,29]\n",
    "for i in range(len(my_list)-1):\n",
    "    for j in range(0,len(my_list)-i-1):\n",
    "        if(my_list[j]>my_list[j+1]):\n",
    "            my_list[j],my_list[j+1]=my_list[j+1],my_list[j]\n",
    "print(my_list)"
   ]
  },
  {
   "cell_type": "code",
   "execution_count": 2,
   "id": "f366475e",
   "metadata": {},
   "outputs": [
    {
     "name": "stdout",
     "output_type": "stream",
     "text": [
      "[1, 2, 2, 3, 5, 6, 10, 11, 12, 14, 15, 17, 18, 20, 29]\n"
     ]
    }
   ],
   "source": [
    "#Task-2\n",
    "my_list=[10,1,20,3,6,2,5,11,15,2,12,14,17,18,29]\n",
    "for i in range(len(my_list)):\n",
    "    minimum=my_list[i]\n",
    "    minimum_index=i\n",
    "    for j in range(i+1,len(my_list)):\n",
    "        if(my_list[j]<minimum):\n",
    "            minimum=my_list[j]\n",
    "            minimum_index=j\n",
    "    my_list[minimum_index],my_list[i]=my_list[i],my_list[minimum_index]\n",
    "print(my_list)"
   ]
  },
  {
   "cell_type": "code",
   "execution_count": 3,
   "id": "e811b1b3",
   "metadata": {},
   "outputs": [
    {
     "name": "stdout",
     "output_type": "stream",
     "text": [
      "[29, 20, 18, 17, 15, 14, 12, 11, 10, 6, 5, 3, 2, 2, 1]\n"
     ]
    }
   ],
   "source": [
    "#Task-3\n",
    "my_list=[10,1,20,3,6,2,5,11,15,2,12,14,17,18,29]\n",
    "for i in range(len(my_list)-1):\n",
    "    for j in range(0,len(my_list)-i-1):\n",
    "        if(my_list[j]<my_list[j+1]):\n",
    "            my_list[j],my_list[j+1]=my_list[j+1],my_list[j]\n",
    "print(my_list)"
   ]
  },
  {
   "cell_type": "code",
   "execution_count": 4,
   "id": "e32a7e2c",
   "metadata": {},
   "outputs": [
    {
     "name": "stdout",
     "output_type": "stream",
     "text": [
      "[10, 100, 11, 80, 12, 70, 20, 56, 22, 30, 58, 16, 70, 15]\n"
     ]
    }
   ],
   "source": [
    "#Task-4\n",
    "sitting_list=[10,30,20,70,11,15,22,16,58,100,12,56,70,80]\n",
    "list2=[]\n",
    "list3=[]\n",
    "for i in range(len(sitting_list)):\n",
    "    if(i%2!=0):\n",
    "        list2.append(sitting_list[i])\n",
    "    else:\n",
    "        list3.append(sitting_list[i])\n",
    "for i in range(len(list2)-1):\n",
    "    for j in range(0,len(list2)-i-1):\n",
    "        if(list2[j]<list2[j+1]):\n",
    "            list2[j],list2[j+1]=list2[j+1],list2[j]\n",
    "for i in range(len(list2)-1):\n",
    "    for j in range(0,len(list3)-i-1):\n",
    "        if(list3[j]>list3[j+1]):\n",
    "            list3[j],list3[j+1]=list3[j+1],list3[j]\n",
    "list4=[]\n",
    "for i in range(len(list2)):\n",
    "    list4.append(list3[i])\n",
    "    list4.append(list2[i])\n",
    "print(list4)"
   ]
  },
  {
   "cell_type": "code",
   "execution_count": 5,
   "id": "6e69eab8",
   "metadata": {},
   "outputs": [
    {
     "name": "stdout",
     "output_type": "stream",
     "text": [
      "PHY111\n",
      "Musk\n",
      "Alan\n",
      "Turing\n",
      "Elon\n"
     ]
    }
   ],
   "source": [
    "#Task-5\n",
    "lst = [[\"Alan\",95,87,91],[\"Turing\",92,90,83],[\"Elon\",87,92,80],[\"Musk\",85,94,90]]\n",
    "var=input()\n",
    "if(var==\"CSE110\"):\n",
    "    i=1\n",
    "elif(var==\"PHY111\"):\n",
    "    i=2\n",
    "elif(var==\"MAT110\"):\n",
    "    i=3\n",
    "name=[]\n",
    "marks=[]\n",
    "for j in range(len(lst)):\n",
    "    name.append(lst[j][0])\n",
    "    marks.append(lst[j][i])\n",
    "for i in range(len(marks)):\n",
    "    minimum=marks[i]\n",
    "    minimum_index=i\n",
    "    for j in range(i+1,len(marks)):\n",
    "        if(marks[j]>minimum):\n",
    "            minimum=marks[j]\n",
    "            minimum_index=j\n",
    "    name[minimum_index],name[i]=name[i],name[minimum_index]\n",
    "for i in name:\n",
    "    print(i)"
   ]
  },
  {
   "cell_type": "code",
   "execution_count": 8,
   "id": "7b03a4f9",
   "metadata": {},
   "outputs": [
    {
     "name": "stdout",
     "output_type": "stream",
     "text": [
      "4\n"
     ]
    }
   ],
   "source": [
    "#Task-6\n",
    "my_list = [4, 2, 3, 1, 6, 5]\n",
    "list1=[]\n",
    "for i in my_list:\n",
    "    list1.append(i)\n",
    "for i in range(len(my_list)-1):\n",
    "    for j in range(0,len(my_list)-i-1):\n",
    "        if(my_list[j]>my_list[j+1]):\n",
    "            my_list[j],my_list[j+1]=my_list[j+1],my_list[j]\n",
    "count=0\n",
    "for i in range(len(my_list)):\n",
    "    if(my_list[i]==list1[i]):\n",
    "        count=count\n",
    "    else:\n",
    "        count+=1\n",
    "print(count)"
   ]
  },
  {
   "cell_type": "code",
   "execution_count": 13,
   "id": "02ee2df3",
   "metadata": {},
   "outputs": [
    {
     "name": "stdout",
     "output_type": "stream",
     "text": [
      "list_one = [1, 7, 9, 10]\n",
      "list_two = [2, 7, 6, 5]\n",
      "Sorted list = [1, 2, 5, 6, 7, 7, 9, 10]\n",
      "Median 6.5\n"
     ]
    }
   ],
   "source": [
    "#Task-7\n",
    "def convertlist(value):\n",
    "    value=value[1:-1].split(',')\n",
    "    convert_list=[]\n",
    "    for i in value:\n",
    "        convert_list.append(int(i))\n",
    "    return convert_list\n",
    "num1=convertlist(input(\"list_one = \"))\n",
    "num2=convertlist(input(\"list_two = \"))\n",
    "num1=num1+num2\n",
    "for i in range(len(num1)-1):\n",
    "    for j in range(0,len(num1)-i-1):\n",
    "        if(num1[j]>num1[j+1]):\n",
    "            num1[j],num1[j+1]=num1[j+1],num1[j]\n",
    "print(\"Sorted list =\",num1)\n",
    "x=len(num1)\n",
    "if(x%2==0):\n",
    "    i=x//2\n",
    "    print(\"Median\",(num1[i]+num1[i-1])/2)\n",
    "else:\n",
    "    i=(x-1)//2\n",
    "    print(\"Median\",num1[i])"
   ]
  },
  {
   "cell_type": "code",
   "execution_count": 12,
   "id": "4641f6bd",
   "metadata": {},
   "outputs": [
    {
     "name": "stdout",
     "output_type": "stream",
     "text": [
      "list_one = [-10, 15, 2, 4, -4, 7, -8]\n",
      "Two pairs which have the smallest sum = 4 and -4\n"
     ]
    }
   ],
   "source": [
    "#Task-8\n",
    "value=input(\"list_one = \")[1:-1].split(',')\n",
    "convert_list=[]\n",
    "for i in value:\n",
    "    convert_list.append(int(i))\n",
    "total=[]\n",
    "pair=[]\n",
    "for i in range(len(convert_list)-1):\n",
    "    for j in range(0,len(convert_list)-i-1):\n",
    "        total.append(abs(convert_list[j]+convert_list[j+1]))\n",
    "        pair.append((convert_list[j],convert_list[j+1]))\n",
    "for i in range(len(total)):\n",
    "    minimum=total[i]\n",
    "    minimum_index=i\n",
    "    for j in range(i+1,len(total)):\n",
    "        if(total[j]<minimum):\n",
    "            minimum=total[j]\n",
    "            minimum_index=j\n",
    "    pair[minimum_index],pair[i]=pair[i],pair[minimum_index]\n",
    "print(\"Two pairs which have the smallest sum =\",pair[0][0],\"and\",pair[0][1])"
   ]
  },
  {
   "cell_type": "code",
   "execution_count": 14,
   "id": "4773c1ca",
   "metadata": {},
   "outputs": [
    {
     "name": "stdout",
     "output_type": "stream",
     "text": [
      "Minimum distance = 5.0\n",
      "Here the closest point is (-3, -4) which has a distance of 5.0 from the origin.\n"
     ]
    }
   ],
   "source": [
    "#Task-9\n",
    "import math\n",
    "points = [(5,3), (2,9), (-2,7), (-3,-4), (0,6), (7,-2)]\n",
    "list1=[]\n",
    "for i in points:\n",
    "    list1.append(math.sqrt(i[0]*i[0]+i[1]*i[1]))\n",
    "mini=list1[0]\n",
    "for i in list1:\n",
    "    if mini>i:\n",
    "        mini=i\n",
    "    else:\n",
    "        mini=mini\n",
    "print(\"Minimum distance =\",mini)\n",
    "x=list1.index(mini)\n",
    "print(\"Here the closest point is\",points[x],\"which has a distance of\",mini,\"from the origin.\")"
   ]
  }
 ],
 "metadata": {
  "kernelspec": {
   "display_name": "Python 3 (ipykernel)",
   "language": "python",
   "name": "python3"
  },
  "language_info": {
   "codemirror_mode": {
    "name": "ipython",
    "version": 3
   },
   "file_extension": ".py",
   "mimetype": "text/x-python",
   "name": "python",
   "nbconvert_exporter": "python",
   "pygments_lexer": "ipython3",
   "version": "3.9.7"
  }
 },
 "nbformat": 4,
 "nbformat_minor": 5
}
